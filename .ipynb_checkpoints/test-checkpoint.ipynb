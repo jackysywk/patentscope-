{
 "cells": [
  {
   "cell_type": "code",
   "execution_count": 95,
   "id": "c2cd8584",
   "metadata": {},
   "outputs": [],
   "source": [
    "import requests\n",
    "from bs4 import BeautifulSoup\n",
    "import xmltodict\n",
    "import os\n",
    "import glob\n",
    "import json"
   ]
  },
  {
   "cell_type": "code",
   "execution_count": null,
   "id": "c0ddf959-03a1-4355-a913-5908226fbb8c",
   "metadata": {},
   "outputs": [],
   "source": [
    "base_url = 'https://patentscope.wipo.int/search/en/'"
   ]
  },
  {
   "cell_type": "code",
   "execution_count": 96,
   "id": "381687a8",
   "metadata": {},
   "outputs": [],
   "source": [
    "url = \"https://patentscope.wipo.int/search/en/result.jsf?_vid=P20-LZDG3V-95861\""
   ]
  },
  {
   "cell_type": "code",
   "execution_count": 97,
   "id": "e0880f9a",
   "metadata": {},
   "outputs": [],
   "source": [
    "cookie= \"\""
   ]
  },
  {
   "cell_type": "code",
   "execution_count": 98,
   "id": "411539b7",
   "metadata": {},
   "outputs": [],
   "source": [
    "headers = {\n",
    "    \"Accept\": \"application/xml, text/xml, */*; q=0.01\",\n",
    "    \"Accept-Encoding\": \"gzip, deflate, br, zstd\",\n",
    "    \"Accept-Language\": \"zh-TW,zh;q=0.9,en-US;q=0.8,en;q=0.7,zh-CN;q=0.6\",\n",
    "    \"Connection\": \"keep-alive\",\n",
    "    \"Content-Type\": \"application/x-www-form-urlencoded; charset=UTF-8\",\n",
    "    \"Cookie\":cookie,\n",
    "}"
   ]
  },
  {
   "cell_type": "code",
   "execution_count": 99,
   "id": "089bfa24",
   "metadata": {},
   "outputs": [],
   "source": [
    "params = {\n",
    "    \"_vid\": \"P20-LZDG3V-95861\"\n",
    "}\n",
    "# 這個跟Get網址尾段必需對上 ​"
   ]
  },
  {
   "cell_type": "code",
   "execution_count": 113,
   "id": "588d9152",
   "metadata": {},
   "outputs": [],
   "source": [
    "def get_patent_meta(patent): #pass the division object to this function\n",
    "    patent_title = patent.find(\"div\",class_=\"ps-patent-result--title\")\n",
    "    patent_date = patent.find(\"div\",class_=\"ps-patent-result--title--ctr-pubdate\").find_all(class_=\"notranslate\")[2].text\n",
    "    url = patent_title.find('a')['href']\n",
    "    ref = patent_title.find('a').text\n",
    "    \n",
    "    #Second row\n",
    "    second_row = patent.find(\"div\",class_=\"ui-outputpanel ui-widget ps-patent-result--fields--group\")\n",
    "    try:\n",
    "        int_class = second_row.find_all('span',recursive=False)[0].find_all('span')[1].find('a').text.strip()\n",
    "        int_class_url = second_row.find_all('span',recursive=False)[0].find_all('span')[1].find('a')['href']\n",
    "    except AttributeError:\n",
    "        int_class, int_class_url = None, None\n",
    "    application_no = second_row.find_all('span',recursive=False)[1].find_all('span')[1].text.strip()\n",
    "    \n",
    "    applicant = second_row.find_all('span',recursive=False)[2].find_all('span')[1].text.strip()\n",
    "    \n",
    "    inventor = second_row.find_all('span',recursive=False)[3].find_all('span')[1].text.strip()\n",
    "    #third row\n",
    "    abstract = patent.find(\"div\",class_=\"ui-outputpanel ui-widget ps-patent-result--abstract\").text\n",
    "    patent_obj = {}\n",
    "    patent_obj['url'] = url\n",
    "    patent_obj['ref'] = ref\n",
    "    patent_obj['int_class'] = int_class\n",
    "    patent_obj['int_class_url'] = int_class_url\n",
    "    patent_obj['application_no'] = application_no\n",
    "    patent_obj['applicant'] = applicant\n",
    "    patent_obj['inventor']=inventor\n",
    "    patent_obj['abstract'] = abstract\n",
    "    return patent_obj\n",
    "\n",
    "def get_next_resultTable_id(patent):\n",
    "    patent_title = patent.find(\"div\",class_=\"ps-patent-result--title\")\n",
    "    ref = patent_title.find('a').text\n",
    "    next_id = ref.replace('/','')\n",
    "    return next_id\n",
    "\n",
    "def is_file_larger_than_500mb(file_path):\n",
    "    # Get the size of the file in bytes\n",
    "    file_size = os.path.getsize(file_path)\n",
    "    \n",
    "    # Convert bytes to megabytes\n",
    "    file_size_mb = file_size / (1024 * 1024)\n",
    "    \n",
    "    # Check if the file size is greater than 500 MB\n",
    "    return file_size_mb > 500\n",
    "    \n",
    "def get_highest_numbered_jsonl_file(directory):\n",
    "    # List all files in the directory\n",
    "    files = os.listdir(directory)\n",
    "    \n",
    "    # Filter out only .jsonl files and extract their numeric parts\n",
    "    jsonl_files = [f for f in files if f.endswith('.jsonl') and f[:-6].isdigit()]\n",
    "    \n",
    "    if not jsonl_files:\n",
    "        return None  # No JSONL files found\n",
    "\n",
    "    # Sort the files by their numeric parts\n",
    "    jsonl_files.sort(key=lambda x: int(x[:-6]))\n",
    "\n",
    "    # Get the highest-numbered file\n",
    "    highest_numbered_file = jsonl_files[-1]\n",
    "\n",
    "    \n",
    "    return highest_numbered_file\n",
    "def write_to_jsonl(json_obj):\n",
    "    last_file = get_highest_numbered_jsonl_file('data')\n",
    "    if last_file:\n",
    "        if is_file_larger_than_500mb(f'data/{last_file}'):\n",
    "            next_file = int(last_file.replace('.jsonl',''))+1\n",
    "        else:\n",
    "            next_file = last_file.replace('.jsonl','')\n",
    "    else:\n",
    "        next_file = 1\n",
    "    with open(f'data/{next_file}.jsonl', 'a') as file:\n",
    "        json.dump(json_obj, file)\n",
    "        file.write('\\n')"
   ]
  },
  {
   "cell_type": "code",
   "execution_count": 114,
   "id": "90e49a7d",
   "metadata": {},
   "outputs": [
    {
     "name": "stderr",
     "output_type": "stream",
     "text": [
      "  0%|                          | 0/100 [00:00<?, ?it/s]/home/jacky/miniconda3/lib/python3.9/site-packages/bs4/builder/__init__.py:545: XMLParsedAsHTMLWarning: It looks like you're parsing an XML document using an HTML parser. If this really is an HTML document (maybe it's XHTML?), you can ignore or filter this warning. If it's XML, you should know that using an XML parser will be more reliable. To parse this document as XML, make sure you have the lxml package installed, and pass the keyword argument `features=\"xml\"` into the BeautifulSoup constructor.\n",
      "  warnings.warn(\n",
      "100%|████████████████| 100/100 [03:01<00:00,  1.81s/it]\n"
     ]
    }
   ],
   "source": [
    "from tqdm import tqdm\n",
    "next_id = 'WO2024156512'\n",
    "for i in tqdm(range(1,101)):\n",
    "    \n",
    "    form_data = {\n",
    "        \"javax.faces.partial.ajax\": True,\n",
    "        \"javax.faces.source\": \"resultListForm:j_idt2692\",\n",
    "        \"javax.faces.partial.execute\": \"resultListForm:j_idt2692\",\n",
    "        \"javax.faces.partial.render\": \"results-container\",\n",
    "        \"resultListForm:j_idt2692\": \"resultListForm:j_idt2692\",\n",
    "        \"resultListForm\": \"resultListForm\",\n",
    "        \"resultListForm\":f\"resultTable_selection: {next_id}\", #這個是Patent ID 每頁的第一個​\n",
    "        \"javax.faces.ViewState\": \"1638315007068028658:-4713344527131575006\"\n",
    "    }\n",
    "    response = requests.post(url, headers = headers, params = params, data = form_data)\n",
    "    soup = BeautifulSoup(response.text, 'lxml')\n",
    "    patents = soup.find_all(\"div\",class_=\"ps-patent-result\")\n",
    "    patent_list = []\n",
    "    #get next id\n",
    "    next_id = get_next_resultTable_id(patents[0])\n",
    "    for patent in patents:\n",
    "        patent_obj = get_patent_meta(patent)\n",
    "        write_to_jsonl(patent_obj)"
   ]
  },
  {
   "cell_type": "code",
   "execution_count": null,
   "id": "db576c5e",
   "metadata": {},
   "outputs": [],
   "source": [
    "patent_list"
   ]
  },
  {
   "cell_type": "code",
   "execution_count": 70,
   "id": "554fe63f",
   "metadata": {},
   "outputs": [],
   "source": []
  },
  {
   "cell_type": "code",
   "execution_count": null,
   "id": "9ef4b003-1c76-47a9-96e7-0471cea93b00",
   "metadata": {},
   "outputs": [],
   "source": []
  }
 ],
 "metadata": {
  "kernelspec": {
   "display_name": "Python 3 (ipykernel)",
   "language": "python",
   "name": "python3"
  },
  "language_info": {
   "codemirror_mode": {
    "name": "ipython",
    "version": 3
   },
   "file_extension": ".py",
   "mimetype": "text/x-python",
   "name": "python",
   "nbconvert_exporter": "python",
   "pygments_lexer": "ipython3",
   "version": "3.9.18"
  }
 },
 "nbformat": 4,
 "nbformat_minor": 5
}
